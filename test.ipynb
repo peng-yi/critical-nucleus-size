import matplotlib.plot as plt

print("hello world!")
